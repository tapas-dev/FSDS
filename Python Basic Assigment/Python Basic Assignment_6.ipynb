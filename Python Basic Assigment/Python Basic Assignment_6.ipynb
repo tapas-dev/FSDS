{
 "cells": [
  {
   "cell_type": "code",
   "execution_count": null,
   "metadata": {},
   "outputs": [],
   "source": [
    "#1. What are escape characters, and how do you use them?"
   ]
  },
  {
   "cell_type": "code",
   "execution_count": null,
   "metadata": {},
   "outputs": [],
   "source": [
    "An escape character is a backslash \\ followed by the character you want to insert\n",
    "The escape character allows you to use double quotes when you normally would not be allowed.\n",
    "eg:\n",
    "txt = \"We are the so-called \\\"Vikings\\\" from the north.\""
   ]
  },
  {
   "cell_type": "code",
   "execution_count": null,
   "metadata": {},
   "outputs": [],
   "source": [
    "#2. What do the escape characters n and t stand for?"
   ]
  },
  {
   "cell_type": "code",
   "execution_count": null,
   "metadata": {},
   "outputs": [],
   "source": [
    "\\n escape characyer stand for new line and \\t stands for tab"
   ]
  },
  {
   "cell_type": "code",
   "execution_count": null,
   "metadata": {},
   "outputs": [],
   "source": [
    "#3. What is the way to include backslash characters in a string?"
   ]
  },
  {
   "cell_type": "code",
   "execution_count": null,
   "metadata": {},
   "outputs": [],
   "source": [
    "Use the syntax \"\\\\\" within the string literal to represent a single backslash.We can also use raw string to represent a\n",
    "backslash.Use the syntax r\"\\\" to treat backslash (\\) as a literal character, and not as an escape character.\n",
    "raw_text = r\"abc\\123\"\n",
    "print(raw_text)\n",
    "output : abc\\123"
   ]
  },
  {
   "cell_type": "code",
   "execution_count": null,
   "metadata": {},
   "outputs": [],
   "source": [
    "#4. The string \"Howl's Moving Castle\" is a correct value. Why isn't the single quote character in the word \n",
    "#Howl's not escaped a problem?"
   ]
  },
  {
   "cell_type": "code",
   "execution_count": 1,
   "metadata": {},
   "outputs": [
    {
     "name": "stdout",
     "output_type": "stream",
     "text": [
      "Howl's Moving Castle\n"
     ]
    }
   ],
   "source": [
    "string = \"Howl's Moving Castle\"\n",
    "print(string) \n",
    "The single quote in Howl's is fine because you've used double quotes to mark the beginning and end of the string."
   ]
  },
  {
   "cell_type": "code",
   "execution_count": null,
   "metadata": {},
   "outputs": [],
   "source": [
    "#5. How do you write a string of newlines if you don't want to use the n character?"
   ]
  },
  {
   "cell_type": "code",
   "execution_count": null,
   "metadata": {},
   "outputs": [],
   "source": [
    "We can chnage the default behaviour of print by customizing the value of end paramater in print function.Be default the \n",
    "value of end = \"\\n\" but if we change it to end to something else character then taht charcater will be uses to seperate\n",
    "the line."
   ]
  },
  {
   "cell_type": "code",
   "execution_count": null,
   "metadata": {},
   "outputs": [],
   "source": [
    "#6. What are the values of the given expressions?\n",
    "'Hello, world!'[1]\n",
    "'Hello, world!'[0:5]\n",
    "'Hello, world!'[:5]\n",
    "'Hello, world!'[3:]\n"
   ]
  },
  {
   "cell_type": "code",
   "execution_count": 6,
   "metadata": {},
   "outputs": [
    {
     "data": {
      "text/plain": [
       "'lo, world!'"
      ]
     },
     "execution_count": 6,
     "metadata": {},
     "output_type": "execute_result"
    }
   ],
   "source": [
    "'Hello, world!'[1]  # The output will be 'e'\n",
    "'Hello, world!'[0:5] # The output will be 'Hello'\n",
    "'Hello, world!'[:5] # The output will be 'Hello'\n",
    "'Hello, world!'[3:] # The output will be 'lo, world!'"
   ]
  },
  {
   "cell_type": "code",
   "execution_count": null,
   "metadata": {},
   "outputs": [],
   "source": [
    "#7. What are the values of the following expressions?\n",
    "'Hello'.upper()\n",
    "'Hello'.upper().isupper()\n",
    "'Hello'.upper().lower()"
   ]
  },
  {
   "cell_type": "code",
   "execution_count": null,
   "metadata": {},
   "outputs": [],
   "source": [
    "'Hello'.upper() #The output will be 'HELLO'\n",
    "'Hello'.upper().isupper() # The output will be True\n",
    "'Hello'.upper().lower() # The output will be 'hello'"
   ]
  },
  {
   "cell_type": "code",
   "execution_count": null,
   "metadata": {},
   "outputs": [],
   "source": [
    "#8. What are the values of the following expressions?\n",
    "'Remember, remember, the fifth of July.'.split()\n",
    "'-'.join('There can only one.'.split())"
   ]
  },
  {
   "cell_type": "code",
   "execution_count": 14,
   "metadata": {},
   "outputs": [
    {
     "data": {
      "text/plain": [
       "['Remember,', 'remember,', 'the', 'fifth', 'of', 'July.']"
      ]
     },
     "execution_count": 14,
     "metadata": {},
     "output_type": "execute_result"
    }
   ],
   "source": [
    "'Remember, remember, the fifth of July.'.split() # The string will be brokem into a list of words as this a work of split"
   ]
  },
  {
   "cell_type": "code",
   "execution_count": 15,
   "metadata": {},
   "outputs": [
    {
     "data": {
      "text/plain": [
       "'There-can-only-one.'"
      ]
     },
     "execution_count": 15,
     "metadata": {},
     "output_type": "execute_result"
    }
   ],
   "source": [
    "'-'.join('There can only one.'.split()) # It will include - in betweel all words as this is the functioning of join"
   ]
  },
  {
   "cell_type": "code",
   "execution_count": null,
   "metadata": {},
   "outputs": [],
   "source": [
    "#9. What are the methods for right-justifying, left-justifying, and centering a string?"
   ]
  },
  {
   "cell_type": "code",
   "execution_count": null,
   "metadata": {},
   "outputs": [],
   "source": [
    "String alignment is frequently used in many day-day applications. Python in its language offers several functions that\n",
    "helps to align string\n",
    "eg:\n",
    "str.ljust(s, width[, fillchar])\n",
    "str.rjust(s, width[, fillchar])\n",
    "str.center(s, width[, fillchar])\n",
    "\n",
    "Center() :This function center aligns the string according to the width specified and fills remaining space of line\n",
    "with blank space if ‘ fillchr ‘ argument is not passed.\n",
    "\n",
    "ljust() : This function left aligns the string according to the width specified and fills remaining space of line \n",
    "with blank space if ‘ fillchr ‘ argument is not passed\n",
    "\n",
    "rjust() : This function right aligns the string according to the width specified and fills remaining space of line \n",
    "with blank space if ‘ fillchr ‘ argument is not passed."
   ]
  },
  {
   "cell_type": "code",
   "execution_count": null,
   "metadata": {},
   "outputs": [],
   "source": [
    "#10. What is the best way to remove whitespace characters from the start or end?"
   ]
  },
  {
   "cell_type": "code",
   "execution_count": null,
   "metadata": {},
   "outputs": [],
   "source": [
    "To remove whitespace characters from the beginning or from the end of a string only,\n",
    "we use the trimStart() or trimEnd() method.\n",
    "String.TrimStart() returns a string with white-spaces trimmed from the start.\n",
    "String.TrimEnd() returns a string with white-spaces trimmed from the end."
   ]
  }
 ],
 "metadata": {
  "kernelspec": {
   "display_name": "Python 3",
   "language": "python",
   "name": "python3"
  },
  "language_info": {
   "codemirror_mode": {
    "name": "ipython",
    "version": 3
   },
   "file_extension": ".py",
   "mimetype": "text/x-python",
   "name": "python",
   "nbconvert_exporter": "python",
   "pygments_lexer": "ipython3",
   "version": "3.7.1"
  }
 },
 "nbformat": 4,
 "nbformat_minor": 2
}
