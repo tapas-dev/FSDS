{
 "cells": [
  {
   "cell_type": "code",
   "execution_count": 1,
   "metadata": {},
   "outputs": [],
   "source": [
    "1. In the below elements which of them are values or an expression? eg:- values can be\n",
    "integer or string and expressions will be mathematical operators.\n",
    "\n",
    "* ---> Expression\n",
    "'hello'-->Value\n",
    "-87.8--->Value\n",
    "- ----->Expression\n",
    "/ ------>Expression\n",
    "+\t----->Expression\n",
    "6 -------->value"
   ]
  },
  {
   "cell_type": "code",
   "execution_count": null,
   "metadata": {},
   "outputs": [],
   "source": [
    "2. What is the difference between string and variable?\n",
    "\n",
    "String:  String is a data type for a sequence of characters(eg.\"zyzsds\"). In addition to letters they can also includes\n",
    "numbers, spaces, punctuatuion & even line breaks.Strings cannot be used for calculation.even if your string is just a \n",
    "number like ‘5’), you would have to convert it to a number data type first to perform math operations on it.\n",
    "\n",
    "Variables : Variables are references that you create to refer to other values in your program later.When writing a program,\n",
    "you can assign the value to a variable (e.g. my_string = “This is a really long string…”) so that you can refer to it later \n",
    "in your program just by typing my_string. Variables are also great for being able to refer values in that change in response\n",
    "to different events in your program."
   ]
  },
  {
   "cell_type": "code",
   "execution_count": null,
   "metadata": {},
   "outputs": [],
   "source": [
    "3. Describe three different data types.\n",
    "\n",
    "a) Numeric : It resprests the data which has numeric value. Numeric values can be integers, floating numbers or a complex \n",
    "number.These values are defined as int, float and complex class in Python.\n",
    "\n",
    "b)Sequence : In Python, sequence is the ordered collection of similar or different data types. Sequences allows to store \n",
    "multiple values in an organized and efficient fashion. There are several sequence types in Python –\n",
    "\n",
    "--String\n",
    "--List\n",
    "--Tuple\n",
    "\n",
    "c) Boolean : Data type with one of the two built-in values, True or False. Boolean objects that are equal to True are truthy\n",
    "(true), and those equal to False are falsy (false). But non-Boolean objects can be evaluated in Boolean context as well \n",
    "and determined to be true or false. It is denoted by the class bool.\n"
   ]
  },
  {
   "cell_type": "code",
   "execution_count": null,
   "metadata": {},
   "outputs": [],
   "source": [
    "4. What is an expression made up of? What do all expressions do?\n",
    "\n",
    "An expression is a combination of values, variables, operators, and calls to functions. Expressions need to be evaluated. \n",
    "If you ask Python to print an expression, the interpreter evaluates the expression and displays the result.All the expression\n",
    "comes up with some result that are being used in any of python programs."
   ]
  },
  {
   "cell_type": "code",
   "execution_count": null,
   "metadata": {},
   "outputs": [],
   "source": [
    "5. This assignment statements, like spam = 10. What is the difference between an expression and a statement?\n",
    "\n",
    "When you evaluate an expression it always produces or returns a result value where as execution of statement may or may not \n",
    "produces a result value. It only does whatever the statement says like in this case spam has been assigned a value of 10.\n",
    "It is not producing any kind of result ."
   ]
  },
  {
   "cell_type": "code",
   "execution_count": null,
   "metadata": {},
   "outputs": [],
   "source": [
    "6. After running the following code, what does the variable bacon contain?\n",
    "bacon = 22\n",
    "bacon + 1\n",
    "\n",
    "Ans : The Variable bacom contain 23 . Initially the vaule was 22 the value was incremented by 1 in next stpe which results in 23."
   ]
  },
  {
   "cell_type": "code",
   "execution_count": null,
   "metadata": {},
   "outputs": [],
   "source": [
    "7. What should the values of the following two terms be?\n",
    "'spam' + 'spamspam'\n",
    "'spam' * 3\n",
    "\n",
    "Ans : First expresson will give an output 'spamspamspam'.It will consecutively add and display.\n",
    "       Second expression will also give 'spamspamspam'. It will multiply the value and display.\n",
    "\n",
    "In python with strings we can only use addition & multipication.We can use strings if we subtract or divide."
   ]
  },
  {
   "cell_type": "code",
   "execution_count": null,
   "metadata": {},
   "outputs": [],
   "source": [
    "8. Why is eggs a valid variable name while 100 is invalid?\n",
    "\n",
    "Ans: Eggs is valid variable because it is starting with a letter while 100 is not a valid variable name because it is starting\n",
    "from a number.A variable name can only contain alpha numeric characters and underscores. (A-Z,0-9,_)"
   ]
  },
  {
   "cell_type": "code",
   "execution_count": null,
   "metadata": {},
   "outputs": [],
   "source": [
    "9. What three functions can be used to get the integer, floating-point number, or string version of a value?\n",
    "\n",
    "Ans: The int() , float() , and str( ) functions will evaluate to the integer, floating-point number, \n",
    "and string versions of the value passed to them."
   ]
  },
  {
   "cell_type": "code",
   "execution_count": null,
   "metadata": {},
   "outputs": [],
   "source": [
    "10. Why does this expression cause an error? How can you fix it?\n",
    "'I have eaten ' + 99 + ' burritos.'\n",
    "\n",
    "Ans : This expression is giving an error because we are trying to concatenate integer with string that is not allowed.\n",
    "If we can put qouotes with 99 and try to concatenate then it will give the correct answer because now all are strings and the \n",
    "opertaion will be performed with no errors.\n",
    "\n",
    "'I have eaten ' + '99' + ' burritos.'\n",
    "\n",
    "Output : 'I have eaten 99 burritos.'"
   ]
  }
 ],
 "metadata": {
  "kernelspec": {
   "display_name": "Python 3",
   "language": "python",
   "name": "python3"
  },
  "language_info": {
   "codemirror_mode": {
    "name": "ipython",
    "version": 3
   },
   "file_extension": ".py",
   "mimetype": "text/x-python",
   "name": "python",
   "nbconvert_exporter": "python",
   "pygments_lexer": "ipython3",
   "version": "3.7.1"
  }
 },
 "nbformat": 4,
 "nbformat_minor": 2
}
