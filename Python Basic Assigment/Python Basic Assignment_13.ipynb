{
 "cells": [
  {
   "cell_type": "markdown",
   "metadata": {},
   "source": [
    "# 1. What advantages do Excel spreadsheets have over CSV spreadsheets?"
   ]
  },
  {
   "cell_type": "code",
   "execution_count": null,
   "metadata": {},
   "outputs": [],
   "source": [
    "Excel is more superior when compared with the CSV file format; thus, CSV consumes less amount of file size when the user \n",
    "is importing data; it is a much faster format compared to excel. CSV does not manipulate data and stores it as-is. \n",
    "Excel also allows the user the add-in feature."
   ]
  },
  {
   "cell_type": "markdown",
   "metadata": {},
   "source": [
    "# 2.What do you pass to csv.reader() and csv.writer() to create reader and writer objects?"
   ]
  },
  {
   "cell_type": "code",
   "execution_count": null,
   "metadata": {},
   "outputs": [],
   "source": [
    "csv file in reading & writing mode mode using open() function.Then, the csv. reader() is used to read the file, which \n",
    "returns an iterable reader object. The reader object is then iterated using a for loop to print the contents of each row."
   ]
  },
  {
   "cell_type": "markdown",
   "metadata": {},
   "source": [
    "# 3. What modes do File objects for reader and writer objects need to be opened in?"
   ]
  },
  {
   "cell_type": "code",
   "execution_count": null,
   "metadata": {},
   "outputs": [],
   "source": [
    "r: Opens a file for reading only\n",
    "r+: Opens a file for both reading and writing\n",
    "w: Opens a file for writing only\n",
    "w+: Open a file for writing and reading.\n",
    "a: Opens a file for appending\n",
    "a+: Opens a file for both appending and reading"
   ]
  },
  {
   "cell_type": "markdown",
   "metadata": {},
   "source": [
    "# 4. What method takes a list argument and writes it to a CSV file?"
   ]
  },
  {
   "cell_type": "code",
   "execution_count": null,
   "metadata": {},
   "outputs": [],
   "source": [
    "The csv. writer writerow method takes an iterable as an argument. Your result set has to be a list (rows) \n",
    "of lists (columns)."
   ]
  },
  {
   "cell_type": "markdown",
   "metadata": {},
   "source": [
    "# 5. What do the keyword arguments delimiter and line terminator do?"
   ]
  },
  {
   "cell_type": "code",
   "execution_count": null,
   "metadata": {},
   "outputs": [],
   "source": [
    "The line terminator is the character that comes at the end of a row. By default, the line terminator is a newline. \n",
    "You can change characters to different values by using the delimiter and lineterminator keyword arguments with csv.writer()"
   ]
  },
  {
   "cell_type": "markdown",
   "metadata": {},
   "source": [
    "# 6. What function takes a string of JSON data and returns a Python data structure ?"
   ]
  },
  {
   "cell_type": "code",
   "execution_count": null,
   "metadata": {},
   "outputs": [],
   "source": [
    "loads() method return Python data structure of JSON string or data."
   ]
  },
  {
   "cell_type": "markdown",
   "metadata": {},
   "source": [
    "# 7. What function takes a Python data structure and returns a string of JSON data?"
   ]
  },
  {
   "cell_type": "code",
   "execution_count": null,
   "metadata": {},
   "outputs": [],
   "source": [
    "The encode(o) function Return a JSON string representation of a Python data structure/\n",
    "json.JSONEncoder().encode({\"foo\": [\"bar\", \"baz\"]})\n",
    "'{\"foo\": [\"bar\", \"baz\"]}'"
   ]
  }
 ],
 "metadata": {
  "kernelspec": {
   "display_name": "Python 3",
   "language": "python",
   "name": "python3"
  },
  "language_info": {
   "codemirror_mode": {
    "name": "ipython",
    "version": 3
   },
   "file_extension": ".py",
   "mimetype": "text/x-python",
   "name": "python",
   "nbconvert_exporter": "python",
   "pygments_lexer": "ipython3",
   "version": "3.7.1"
  }
 },
 "nbformat": 4,
 "nbformat_minor": 2
}
