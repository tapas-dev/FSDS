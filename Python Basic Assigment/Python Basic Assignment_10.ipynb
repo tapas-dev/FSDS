{
 "cells": [
  {
   "cell_type": "markdown",
   "metadata": {},
   "source": [
    "# 1. How do you distinguish between shutil.copy() and shutil.copytree()?"
   ]
  },
  {
   "cell_type": "code",
   "execution_count": null,
   "metadata": {},
   "outputs": [],
   "source": [
    "shutil.copy() will copy a single file where as shutil.copytree() will copy an entire folder and every folder and file\n",
    "contained in it."
   ]
  },
  {
   "cell_type": "markdown",
   "metadata": {},
   "source": [
    "# 2. What function is used to rename files??"
   ]
  },
  {
   "cell_type": "code",
   "execution_count": null,
   "metadata": {},
   "outputs": [],
   "source": [
    "os. rename() method in Python is used to rename a file or directory."
   ]
  },
  {
   "cell_type": "markdown",
   "metadata": {},
   "source": [
    "# 3. What is the difference between the delete functions in the send2trash and shutil modules?"
   ]
  },
  {
   "cell_type": "code",
   "execution_count": null,
   "metadata": {},
   "outputs": [],
   "source": [
    "The send2trash functions will move a file or folder to the recycle bin, while shutil functions will permanently delete\n",
    "files and folders."
   ]
  },
  {
   "cell_type": "markdown",
   "metadata": {},
   "source": [
    "# 4.ZipFile objects have a close() method just like File objects’ close() method. What ZipFile method is equivalent to File objects’ open() method?"
   ]
  },
  {
   "cell_type": "code",
   "execution_count": null,
   "metadata": {},
   "outputs": [],
   "source": [
    "The zipfile.ZipFile() function is equivalent to File objects open() method."
   ]
  },
  {
   "cell_type": "markdown",
   "metadata": {},
   "source": [
    "# 5. Create a programme that searches a folder tree for files with a certain file extension (such as .pdf or .jpg). Copy these files from whatever location they are in to a new folder."
   ]
  },
  {
   "cell_type": "code",
   "execution_count": 2,
   "metadata": {},
   "outputs": [
    {
     "name": "stdout",
     "output_type": "stream",
     "text": [
      "location:  C:/Users/Tapas/Desktop/Full Stack Data Science by Ineuron\\003.jpg\n"
     ]
    }
   ],
   "source": [
    "import os, shutil\n",
    "\n",
    "def moveFileType(folder): \n",
    "    for root, dirs, files in os.walk(folder):\n",
    "        for file in files: \n",
    "            if file.endswith('.jpg'):\n",
    "                image_path=os.path.join(root,file)\n",
    "                print('location: ',image_path)   # get the path location of each jpeg image.\n",
    "                shutil.copy(image_path, 'C:/Users/Tapas')\n",
    "\n",
    "\n",
    "moveFileType('C:/Users/Tapas/Desktop/Full Stack Data Science by Ineuron')"
   ]
  }
 ],
 "metadata": {
  "kernelspec": {
   "display_name": "Python 3",
   "language": "python",
   "name": "python3"
  },
  "language_info": {
   "codemirror_mode": {
    "name": "ipython",
    "version": 3
   },
   "file_extension": ".py",
   "mimetype": "text/x-python",
   "name": "python",
   "nbconvert_exporter": "python",
   "pygments_lexer": "ipython3",
   "version": "3.7.1"
  }
 },
 "nbformat": 4,
 "nbformat_minor": 2
}
