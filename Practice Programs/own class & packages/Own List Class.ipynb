{
 "cells": [
  {
   "cell_type": "code",
   "execution_count": 12,
   "metadata": {},
   "outputs": [
    {
     "data": {
      "text/plain": [
       "[1, 2, 4, 5]"
      ]
     },
     "execution_count": 12,
     "metadata": {},
     "output_type": "execute_result"
    }
   ],
   "source": [
    "test = [1,2,3,4,5]\n",
    "test.(2)\n",
    "test"
   ]
  },
  {
   "cell_type": "code",
   "execution_count": 7,
   "metadata": {},
   "outputs": [],
   "source": [
    "import logging\n",
    "logging.basicConfig(filename=\"taps.log\", level =logging.INFO, format = '%(asctime)s %(message)s %(levelname)s')"
   ]
  },
  {
   "cell_type": "code",
   "execution_count": 23,
   "metadata": {},
   "outputs": [],
   "source": [
    "class function:\n",
    "    def __init__(self,l):\n",
    "        self.l =l\n",
    "    def append(self,a):\n",
    "        try:\n",
    "            logging.info(\"The code execution started\")\n",
    "            if type(self.l)==list:\n",
    "                for i in a:\n",
    "                    self.l.append(i)\n",
    "                    logging.info(\"executed successfully\")\n",
    "                return self.l            \n",
    "        except Exception as e:\n",
    "                print(\"Invalid Input\",e)\n",
    "                logging.error(\"Error has happened\")\n",
    "    def insert(self,x,y):\n",
    "        try:\n",
    "            logging.info(\"The code execution started\")\n",
    "            if type(self.l)==list:\n",
    "                self.l.insert(x,y)\n",
    "                logging.info(\"executed successfully\")\n",
    "                return self.l            \n",
    "        except Exception as e:\n",
    "                print(\"Invalid Input\",e)\n",
    "                logging.error(\"Error has happened\")\n",
    "    def clear(self):\n",
    "        try:\n",
    "            logging.info(\"The code execution started\")\n",
    "            if type(self.l)==list:\n",
    "                self.l.clear()\n",
    "                print(\"You have cleared the list\")\n",
    "                logging.info(\"executed successfully\")\n",
    "                return self.l            \n",
    "        except Exception as e:\n",
    "                print(\"Invalid Input\",e)\n",
    "                logging.error(\"Error has happened\")  \n",
    "    def copy(self):\n",
    "        try:\n",
    "            logging.info(\"The code execution started\")\n",
    "            if type(self.l)==list:\n",
    "                self.l.copy()\n",
    "                print(\"You have got a shallow copy of list\")\n",
    "                logging.info(\"executed successfully\")\n",
    "                return self.l            \n",
    "        except Exception as e:\n",
    "                print(\"Invalid Input\",e)\n",
    "                logging.error(\"Error has happened\")    \n",
    "    def count(self,x):\n",
    "        try:\n",
    "            logging.info(\"The code execution started\")\n",
    "            if type(self.l)==list:\n",
    "                count1 =self.l.count(x)\n",
    "                logging.info(\"executed successfully\")\n",
    "                return count1         \n",
    "        except Exception as e:\n",
    "                print(\"Invalid Input\",e)\n",
    "                logging.error(\"Error has happened\")    \n",
    "    def extend(self,x):\n",
    "        try:\n",
    "            logging.info(\"The code execution started\")\n",
    "            if type(self.l)==list:\n",
    "                self.l.extend(x)\n",
    "                logging.info(\"executed successfully\")\n",
    "                return self.l         \n",
    "        except Exception as e:\n",
    "                print(\"Invalid Input\",e)\n",
    "                logging.error(\"Error has happened\")  \n",
    "    def index(self,x):\n",
    "        try:\n",
    "            logging.info(\"The code execution started\")\n",
    "            if type(self.l)==list:\n",
    "                return self.l.index(x)\n",
    "                logging.info(\"executed successfully\")         \n",
    "        except Exception as e:\n",
    "                print(\"Invalid Input\",e)\n",
    "                logging.error(\"Error has happened\") \n",
    "    def pop(self,x):\n",
    "        try:\n",
    "            logging.info(\"The code execution started\")\n",
    "            if type(self.l)==list:\n",
    "                self.l.pop(x)\n",
    "                logging.info(\"executed successfully\")  \n",
    "                return self.l\n",
    "        except Exception as e:\n",
    "            print(\"Invalid Input\",e)\n",
    "            logging.error(\"Error has happened\") \n"
   ]
  },
  {
   "cell_type": "code",
   "execution_count": 24,
   "metadata": {},
   "outputs": [],
   "source": [
    "test= function([6,7,8,9,10])"
   ]
  },
  {
   "cell_type": "code",
   "execution_count": 25,
   "metadata": {},
   "outputs": [
    {
     "data": {
      "text/plain": [
       "[6, 7, 9, 10]"
      ]
     },
     "execution_count": 25,
     "metadata": {},
     "output_type": "execute_result"
    }
   ],
   "source": [
    "test.pop(2)"
   ]
  },
  {
   "cell_type": "code",
   "execution_count": null,
   "metadata": {},
   "outputs": [],
   "source": []
  },
  {
   "cell_type": "code",
   "execution_count": null,
   "metadata": {},
   "outputs": [],
   "source": []
  }
 ],
 "metadata": {
  "kernelspec": {
   "display_name": "Python 3",
   "language": "python",
   "name": "python3"
  },
  "language_info": {
   "codemirror_mode": {
    "name": "ipython",
    "version": 3
   },
   "file_extension": ".py",
   "mimetype": "text/x-python",
   "name": "python",
   "nbconvert_exporter": "python",
   "pygments_lexer": "ipython3",
   "version": "3.7.1"
  }
 },
 "nbformat": 4,
 "nbformat_minor": 2
}
