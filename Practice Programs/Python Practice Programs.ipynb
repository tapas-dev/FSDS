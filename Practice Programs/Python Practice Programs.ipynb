{
 "cells": [
  {
   "cell_type": "code",
   "execution_count": null,
   "metadata": {},
   "outputs": [],
   "source": [
    "#1.You have to write a func  which will take string and return a len of it without using inbuilt function "
   ]
  },
  {
   "cell_type": "code",
   "execution_count": 5,
   "metadata": {},
   "outputs": [
    {
     "name": "stdout",
     "output_type": "stream",
     "text": [
      "Enter the stringTapas gupta\n"
     ]
    },
    {
     "data": {
      "text/plain": [
       "11"
      ]
     },
     "execution_count": 5,
     "metadata": {},
     "output_type": "execute_result"
    }
   ],
   "source": [
    "def lent(s):\n",
    "    count = 0\n",
    "    for i in s:\n",
    "        count =count+1\n",
    "    return count \n",
    "    print(count)\n",
    "string = input(\"Enter the string\")\n",
    "lent(string)           "
   ]
  },
  {
   "cell_type": "code",
   "execution_count": 7,
   "metadata": {},
   "outputs": [],
   "source": [
    "#3. Write a fun which will take input as a dict and give me output as a list of values even in case of \n",
    "#   2 level nesting it should work."
   ]
  },
  {
   "cell_type": "code",
   "execution_count": 8,
   "metadata": {},
   "outputs": [
    {
     "name": "stdout",
     "output_type": "stream",
     "text": [
      "[123, 232, 1, 2, 3, 4, 'man', 14, 10, 4, 45, 34, 1]\n"
     ]
    }
   ],
   "source": [
    "def check1(a):\n",
    "    k1= []\n",
    "    if type(a)==dict:\n",
    "        for i in a.values():\n",
    "            if  type(i)==tuple or type(i)==set or type(i)==list:\n",
    "                for j in i:\n",
    "                    k1.append(j)\n",
    "            elif type(i)== dict:\n",
    "                for k in i.values():\n",
    "                    k1.append(k)\n",
    "                   \n",
    "            else:\n",
    "                k1.append(i)\n",
    "        print(k1)\n",
    "                   \n",
    "check1({\"a\":123,\"b\": 232,\"c\":{1,2,3,4,\"man\"},\"ineruon\":{\"a\":14,\"b\":10,\"c\":4},\"course\" :{\"d\":45,\"e\":34,\"f\":1}})   "
   ]
  },
  {
   "cell_type": "code",
   "execution_count": null,
   "metadata": {},
   "outputs": [],
   "source": [
    "#4.write a fun which will take another fun as an input return me an output "
   ]
  },
  {
   "cell_type": "code",
   "execution_count": 2,
   "metadata": {},
   "outputs": [
    {
     "name": "stdout",
     "output_type": "stream",
     "text": [
      "THIS FUNCTION TAKE A INPUT AND RETURNS A OUTPUT\n",
      "this function take a input and returns a output\n"
     ]
    }
   ],
   "source": [
    "def func1(text):\n",
    "    return text.upper()\n",
    "def func2(text):\n",
    "    return text.lower()\n",
    "\n",
    "def main(func):\n",
    "    greetings = func(\"This function take a input and returns a output\")\n",
    "    print(greetings)\n",
    "    \n",
    "main(func1)\n",
    "main(func2)\n",
    "    \n",
    "    "
   ]
  },
  {
   "cell_type": "code",
   "execution_count": 5,
   "metadata": {},
   "outputs": [],
   "source": [
    "#5. write a function whihc will take multiple list as a input and give me concatnation of all the element as \n",
    "#and output "
   ]
  },
  {
   "cell_type": "code",
   "execution_count": 29,
   "metadata": {},
   "outputs": [
    {
     "name": "stdout",
     "output_type": "stream",
     "text": [
      "Enter the number of list you want to enter3\n",
      "Enter the number of elements of list4\n",
      "Enter elementtapas\n",
      "Enter elementshweta\n",
      "Enter element1\n",
      "Enter element3\n",
      "Enter the number of elements of list5\n",
      "Enter elementsudh\n",
      "Enter element5+6j\n",
      "Enter element55\n",
      "Enter elementac\n",
      "Enter element99\n",
      "Enter the number of elements of list3\n",
      "Enter element1\n",
      "Enter element2\n",
      "Enter element3\n",
      "['tapas', 'shweta', '1', '3', 'sudh', '5+6j', '55', 'ac', '99', '1', '2', '3']\n"
     ]
    }
   ],
   "source": [
    "def test():\n",
    "    l=[]\n",
    "    size = int(input(\"Enter the number of list you want to enter\"))\n",
    "    for i in range (0,size):\n",
    "        element = int(input(\"Enter the number of elements of list\"))\n",
    "        for j in range(0,element):\n",
    "            ele=input(\"Enter element\")\n",
    "            l.append(ele)\n",
    "    print(l)         \n",
    "test()     "
   ]
  },
  {
   "cell_type": "code",
   "execution_count": 30,
   "metadata": {},
   "outputs": [],
   "source": [
    "#6 . write a function which will be able to take a list as an input return an index of each element \n",
    "#like a inbuilt index function but even if we have repetative element it should return index"
   ]
  },
  {
   "cell_type": "code",
   "execution_count": 15,
   "metadata": {},
   "outputs": [
    {
     "name": "stdout",
     "output_type": "stream",
     "text": [
      "Enter the number of elements of a list6\n",
      "Enter the elements44\n",
      "Enter the elements55\n",
      "Enter the elements4\n",
      "Enter the elements44\n",
      "Enter the elements55\n",
      "Enter the elements66\n",
      "The Index of elements in the list are [0, 1, 2, 3, 4, 5]\n"
     ]
    }
   ],
   "source": [
    "def ind():\n",
    "    l=[]\n",
    "    final =[]\n",
    "    size = int(input(\"Enter the number of elements of a list\"))\n",
    "    for i in range (0,size):\n",
    "        elements = input(\"Enter the elements\")\n",
    "        l.append(i)\n",
    "    for j in l:\n",
    "        final.append(l[j])\n",
    "    print(\"The Index of elements in the list are\",final)\n",
    "        \n",
    "ind()   "
   ]
  },
  {
   "cell_type": "code",
   "execution_count": 17,
   "metadata": {},
   "outputs": [],
   "source": [
    "#7  Write a function which will whould return list of all the file name from a directory"
   ]
  },
  {
   "cell_type": "code",
   "execution_count": 17,
   "metadata": {},
   "outputs": [
    {
     "name": "stdout",
     "output_type": "stream",
     "text": [
      "['.condarc', '.gitconfig', '.gitignore', '3-Numpy Tutorial.ipynb', '4- Pandas tutorial.ipynb', '6- Functions.ipynb', 'Accquisition details IJM-Copy1.ipynb', 'Accquisition details IJM.ipynb', 'Accquisition.csv', 'Advance House Price prediction.ipynb', 'advance hpuse submission.ipynb', 'Affinity by users', 'Affinity by users.csv', 'Analytics All IJM Pages Pages 20210625-20210701.csv', 'app.py', 'APPEAL_D.csv', 'APPEAL_D.XLSX', 'APPEAL_NEW.XLSX', 'appp.py', 'AtomSetup-x64.exe', 'Book1.xlsx', 'Car price Prediction.ipynb', 'Complete Pandas tutorial.ipynb', 'complete Pandas tutoriall.ipynb', 'Cons.xlsx', 'constituent_demo.XLSX', 'constituent_demo_updated.xlsx', 'Country by Users.ipynb', 'CountryByusers.csv', 'Data Frames.ipynb', 'Data Frames1.ipynb', 'DEMOGRAP.csv', 'DEMOGRAP.XLSX', 'demograph.xlsx', 'Demostats Dask.ipynb', 'Demostats Pandas.ipynb', 'Demostats.ipynb', 'EDA.ipynb', 'Exploratory Data Analysis Part 1.ipynb', 'EXPORT.csv', 'EXPORT.XLSX', 'Feature Engineering.ipynb', 'Feature Selection.ipynb', 'final.xlsx', 'finalized_model.pkl', 'final_data.xlsx', 'final_one_view.xlsx', 'Final_View_2_total.xlsx', 'FSDS 18 Dec.ipynb', 'FSDS 19 Dec.ipynb', 'FSDS 20 Dec.ipynb', 'FSDS 21 Dec.ipynb', 'FSDS 23 Dec.ipynb', 'FSDS 4 Dec.ipynb', 'FSDS 5 Dec.ipynb', 'FSDS 8 Jan.ipynb', 'FSDS New Year Homework.ipynb', 'f_data.xlsx', 'GA Refreshed Data Demographics-36 months.ipynb', 'GA Refreshed Data Demographics.ipynb', 'GA Refreshed Data Engagement-36 Months.ipynb', 'GA Refreshed Data Engagement.ipynb', 'Geography_hierarchy.ipynb', 'Geography_Hierarchy_File_2021.csv', 'Gift_data_final.xlsx', 'Gift_Details.XLSX', 'GIFT_TYPE.XLSX', 'Handling Imbalanced Data- Over Sampling.ipynb', 'Handling Imbalanced Data- Under Sampling.ipynb', 'Handling Imbalanced dataset.ipynb', 'Hypothesis_Testing.ipynb', 'IJM Constituent Demo-Copy1.ipynb', 'IJM Constituent Demo.ipynb', 'IJM Data Fetch-Copy1.ipynb', 'IJM Data Fetch-Copy2.ipynb', 'IJM Data Fetch.ipynb', 'IJM Data Single view (1)-Copy1.ipynb', 'IJM Data Single view (1).ipynb', 'IJM Data Single view.ipynb', 'IJM Extraction demo 2.ipynb', 'IJM Relationship.ipynb', 'IJM Single-Copy1.ipynb', 'IJM Single.ipynb', 'ijm-318517-a5010c429dc4.json', 'IJM.xlsx', 'IJM1.xlsx', 'IJMsingle.xlsx', 'IJMSingleview.csv', 'IJM_donor_Data.csv', 'IJM_DONOR_PERSONA.ipynb', 'IJM_Final_View.csv', 'images.jpg', 'index.html', 'InMarketCategory.csv', 'InMarketSegments by Users.ipynb', 'InterestAffinityCategories by Users-Copy1.ipynb', 'InterestAffinityCategories by Users.ipynb', 'InterestAffinityCategoryByregion.csv', 'Kaggle 1 submission.ipynb', 'Lassoand Regression.ipynb', 'LICENSE', 'merge_final_data.xlsx', 'MLR demo.ipynb', 'model.pkl', 'model.py', 'NON DONOR DATA.ipynb', 'NO_GIFT_AMOUNT.XLSX', 'NTUSER.DAT', 'ntuser.dat.LOG1', 'ntuser.dat.LOG2', 'NTUSER.DAT{016888bd-6c6f-11de-8d1d-001e0bcde3ec}.TM.blf', 'NTUSER.DAT{016888bd-6c6f-11de-8d1d-001e0bcde3ec}.TMContainer00000000000000000001.regtrans-ms', 'NTUSER.DAT{016888bd-6c6f-11de-8d1d-001e0bcde3ec}.TMContainer00000000000000000002.regtrans-ms', 'ntuser.ini', 'Numpy.ipynb', 'Numpyy.ipynb', 'practice problem python basic.ipynb', 'Procfile', 'Python Basic Assignment_1.ipynb', 'Python Basic Assignment_2.ipynb', 'Python Basic Assignment_3.ipynb', 'random_forest_regression.pkl', 'README.md', 'regionByusers.csv', 'request.py', 'requirements.txt', 'Resullt_geography.csv', 'result_n.csv', 'sample data.zip', 'Sample_Data_Model.zip', 'SGPlot1.png', 'test data advace house.ipynb', 'Test1.csv', 'Thumbs.db', 'titanic_train.csv', 'total_ltv.xlsx', 'ttesst.ipynb', 'Untitled.ipynb', 'untitled.txt', 'Untitled1.ipynb', 'untitled1.txt', 'Untitled10.ipynb', 'Untitled11.ipynb', 'Untitled12.ipynb', 'Untitled13.ipynb', 'Untitled14.ipynb', 'Untitled15.ipynb', 'Untitled16.ipynb', 'Untitled17.ipynb', 'Untitled18.ipynb', 'Untitled19.ipynb', 'Untitled2.ipynb', 'Untitled20.ipynb', 'Untitled21.ipynb', 'Untitled22.ipynb', 'Untitled23.ipynb', 'Untitled24.ipynb', 'Untitled25.ipynb', 'Untitled26.ipynb', 'Untitled27.ipynb', 'Untitled28.ipynb', 'Untitled29.ipynb', 'Untitled3.ipynb', 'Untitled30.ipynb', 'Untitled31.ipynb', 'Untitled4.ipynb', 'Untitled5.ipynb', 'Untitled6.ipynb', 'Untitled7.ipynb', 'Untitled8.ipynb', 'Untitled9.ipynb', 'WNS.CSV', 'WNS.xlsx', 'WNS_GIFT.csv', 'WNS_GIFT.XLSX', 'WNS_GIFT_last.XLSX', 'WNS_IJM.DAT', 'WNS_IJM_1.txt']\n"
     ]
    }
   ],
   "source": [
    "from os import listdir\n",
    "from os.path import isfile, join\n",
    "def allfiles():\n",
    "    mypath = 'C:/Users/Tapas'\n",
    "    onlyfiles = [f for f in listdir(mypath) if isfile(join(mypath, f))]\n",
    "    print(onlyfiles)\n",
    "allfiles()"
   ]
  },
  {
   "cell_type": "code",
   "execution_count": 4,
   "metadata": {},
   "outputs": [],
   "source": [
    "#8  . write a function which will be able to show your system configuration ."
   ]
  },
  {
   "cell_type": "code",
   "execution_count": 9,
   "metadata": {},
   "outputs": [
    {
     "name": "stdout",
     "output_type": "stream",
     "text": [
      "System: Windows\n",
      "Node Name: Tapas-PC\n",
      "Release: 7\n",
      "Version: 6.1.7601\n",
      "Machine: AMD64\n",
      "Processor: Intel64 Family 6 Model 61 Stepping 4, GenuineIntel\n"
     ]
    }
   ],
   "source": [
    "import platform\n",
    "def systeminfo():\n",
    "    my_system = platform.uname()\n",
    "    print(f\"System: {my_system.system}\")\n",
    "    print(f\"Node Name: {my_system.node}\")\n",
    "    print(f\"Release: {my_system.release}\")\n",
    "    print(f\"Version: {my_system.version}\")\n",
    "    print(f\"Machine: {my_system.machine}\")\n",
    "    print(f\"Processor: {my_system.processor}\")\n",
    "systeminfo()"
   ]
  },
  {
   "cell_type": "code",
   "execution_count": 10,
   "metadata": {},
   "outputs": [],
   "source": [
    "#9 . write a function which will be able to show date and time  "
   ]
  },
  {
   "cell_type": "code",
   "execution_count": 19,
   "metadata": {},
   "outputs": [
    {
     "name": "stdout",
     "output_type": "stream",
     "text": [
      "Current date and time : \n",
      "2021-12-29 20:24:21\n"
     ]
    }
   ],
   "source": [
    "import datetime\n",
    "def time():\n",
    "    now = datetime.datetime.now()\n",
    "    print (\"Current date and time : \")\n",
    "    print (now.strftime(\"%Y-%m-%d %H:%M:%S\"))\n",
    "time()"
   ]
  },
  {
   "cell_type": "code",
   "execution_count": 20,
   "metadata": {},
   "outputs": [],
   "source": [
    "#10 . write a function whihc will be able to read a image file and show it to you "
   ]
  },
  {
   "cell_type": "code",
   "execution_count": 24,
   "metadata": {},
   "outputs": [
    {
     "data": {
      "image/png": "[encoded data removed]",
      "text/plain": [
       "<Figure size 432x288 with 1 Axes>"
      ]
     },
     "metadata": {
      "needs_background": "light"
     },
     "output_type": "display_data"
    }
   ],
   "source": [
    "import matplotlib.image as m\n",
    "import matplotlib.pyplot as plt\n",
    "def image():\n",
    "    img = m.imread(\"images.jpg\")\n",
    "    plt.imshow(img)\n",
    "    \n",
    "image()\n",
    "    "
   ]
  },
  {
   "cell_type": "code",
   "execution_count": null,
   "metadata": {},
   "outputs": [],
   "source": [
    "#12. write a function whihc can move a file from one directory to another directory "
   ]
  },
  {
   "cell_type": "code",
   "execution_count": 13,
   "metadata": {},
   "outputs": [],
   "source": [
    "import os\n",
    "import shutil\n",
    "def move():\n",
    "    source = \"D:/source/\"\n",
    "    destination = \"D:/destination/\"\n",
    "    allfiles = os.listdir(source)\n",
    "    for f in allfiles:\n",
    "        shutil.move(source + f, destination + f)\n",
    "move() \n",
    "\n",
    "# still struggling to get a way to transfer one file"
   ]
  },
  {
   "cell_type": "code",
   "execution_count": 1,
   "metadata": {},
   "outputs": [],
   "source": [
    "#19 . write a function by which you can print an ip address of your system "
   ]
  },
  {
   "cell_type": "code",
   "execution_count": 6,
   "metadata": {},
   "outputs": [
    {
     "name": "stdout",
     "output_type": "stream",
     "text": [
      "Your Computer Name is:Tapas-PC\n",
      "Your Computer IP Address is:192.168.1.7\n"
     ]
    }
   ],
   "source": [
    "def ip():\n",
    "    import socket \n",
    "    hostname =socket.gethostname()\n",
    "    ipaddress = socket.gethostbyname(hostname)\n",
    "    print(\"Your Computer Name is:\" + hostname)   \n",
    "    print(\"Your Computer IP Address is:\" + ipaddress) \n",
    "    \n",
    "ip()\n",
    "    "
   ]
  },
  {
   "cell_type": "code",
   "execution_count": 18,
   "metadata": {},
   "outputs": [],
   "source": [
    "#17. write a function to read a word file ."
   ]
  },
  {
   "cell_type": "code",
   "execution_count": 23,
   "metadata": {},
   "outputs": [
    {
     "name": "stdout",
     "output_type": "stream",
     "text": [
      "This is a test file created for a python program in fsds\n"
     ]
    }
   ],
   "source": [
    "#pip install docx2txt\n",
    "def word():\n",
    "    import docx2txt\n",
    "    my_text = docx2txt.process(\"test.docx\")\n",
    "    print(my_text)\n",
    "word()"
   ]
  },
  {
   "cell_type": "code",
   "execution_count": 24,
   "metadata": {},
   "outputs": [],
   "source": [
    "#16. write a func to read a complete PDf file ."
   ]
  },
  {
   "cell_type": "code",
   "execution_count": 32,
   "metadata": {},
   "outputs": [
    {
     "name": "stdout",
     "output_type": "stream",
     "text": [
      "Page no: 0\n",
      "Full Stack Data Science \n",
      "With 1 Year Internship\n",
      "JOB GUARANTEE PROGRAM\n",
      "\n",
      "Page no: 1\n",
      "What You'll Learn\n",
      "\n",
      "Python\n",
      "\n",
      "Stats\n",
      "\n",
      "Machine learning\n",
      "\n",
      "Deep learning\n",
      "\n",
      "Computer vision\n",
      "\n",
      "Natural language processing\n",
      "\n",
      "Data analytics\n",
      "\n",
      "Big data\n",
      "\n",
      "Ml ops\n",
      "\n",
      "Cloud\n",
      "\n",
      "Data structure and algorithm\n",
      "\n",
      "Architecture\n",
      "\n",
      "Domain wise project\n",
      "\n",
      "Databases\n",
      "\n",
      "Page no: 2\n",
      "Service from \n",
      "iNeuron\n",
      "\n",
      "Live class for complete course \n",
      "\n",
      "Pre \n",
      "\n",
      "recorded video for FastTrack after \n",
      "launch of course in 3 month \n",
      "\n",
      "All live class recordings \n",
      "\n",
      "All live class notes \n",
      "\n",
      "Mail support for doubt clearing \n",
      "\n",
      "Live doubt clearing session weekly\n",
      "\n",
      "Live doubt clearing after class \n",
      "\n",
      "Skype support for all 7 days except public \n",
      "holidays from morning 9 AM IST to night 2 AM \n",
      "IST for doubt clearing \n",
      "\n",
      "Quick response team for your interview \n",
      "preparation \n",
      "\n",
      "Lifetime content , dashboard and service \n",
      "access from \n",
      "iNeuron\n",
      "\n",
      "Profile building after every major module \n",
      "\n",
      "Project in every section \n",
      "\n",
      "Sample resume for all level \n",
      "\n",
      "Page no: 3\n",
      "Assignment in every module \n",
      "Remote Internship \n",
      "Questions for interview preparation \n",
      "Service from \n",
      "iNeuron\n",
      "\n",
      "Page no: 4\n",
      "Common questions \n",
      "\n",
      "Will I be able to make a transition if I am from non tech or non IT background ?\n",
      "\n",
      "Is there a sufficient number of jobs available in market for this profile ?\n",
      "\n",
      "Will I will able to get into an industry if I am fresher ?\n",
      "\n",
      "Will I be able to make a transition if I am a experienced person ?\n",
      "\n",
      "How I am suppose to prepare my profile if I am from non tech or non data science background ?\n",
      "\n",
      "Is it compulsory to know all the tech related to data science while preparing for transition ?\n",
      "\n",
      "Which company is hiring person in this area ?\n",
      "\n",
      "Will I be able to do internship if I am a working professional ?\n",
      "\n",
      "What are the platform where I can apply for data science job ?\n",
      "\n",
      "Page no: 5\n",
      "Common questions \n",
      "\n",
      "How much assignment ,projects I have to complete  for  job guarantee ?\n",
      "\n",
      "How much  time I have to spend for this course after class ?\n",
      "\n",
      "How I am suppose to prepare my profile for data science ?\n",
      "\n",
      "How I  can showcase my project and experience in data science ?\n",
      "\n",
      "How will be job market after sometime in data science ?\n",
      "\n",
      "Do I have to prepare for data structure and algorithm for  data science job?\n",
      "\n",
      "What kind of job I will be able to get in data science field ?\n",
      "\n",
      "What if I have a career gap ?\n",
      "\n",
      "How \n",
      "iNeuron\n",
      "will help us with interview preparation ?\n",
      "\n",
      "Page no: 6\n",
      "Common questions \n",
      "\n",
      "How much time it will take to complete this course ?\n",
      "\n",
      "I am from teaching background will I be able to make a transition into data science industry ?\n",
      "\n",
      "Will I be able to work with \n",
      "iNeuron\n",
      "team ?\n",
      "\n",
      "How much salary I will be able to get ?\n",
      "\n",
      "\n",
      "\n",
      "How my previous experience   will be counted while  doing a transition ? \n",
      "\n",
      "Will I be considered as fresher if I have industry experience in different domain  ?\n",
      "\n",
      "How much \n",
      "experience\n",
      "I have to show case in my resume for data science ?\n",
      "\n",
      "How many project I have to showcase in my resume ?\n",
      "\n",
      "Will I be able to show \n",
      "iNeuron\n",
      "project in my profile ?\n",
      "\n",
      "Page no: 7\n",
      "Live Mock interview \n",
      "https://www.youtube.com/watch?v=FGjYeKSfLr4&list=PLZoTAELRMXVN4ypDZ4Qd0nfWR_I7xl368\n",
      "Success Story :\n",
      "https://\n",
      "www.youtube.com/watch?v=eGltLHfGszU&list=PLZoTAELRMXVO5zRjBApoMgM5rc5KEzjJX\n",
      "https://www.youtube.com/watch?v=p78NEOskpmQ&list=PLmQAMKHKeLZ8QswAAWXXMC4LwmWk5ZTj\n",
      "_\n",
      "\n",
      "Page no: 8\n",
      "Syllabus :\n",
      "https://\n",
      "ineuron.ai/home/coursedetail/full\n",
      "-\n",
      "stack\n",
      "-\n",
      "data\n",
      "-\n",
      "science\n",
      "-\n",
      "with\n",
      "-\n",
      "1\n",
      "-\n",
      "year\n",
      "-\n",
      "internship\n",
      "-\n",
      "-\n",
      "117\n",
      "Sample resume \n",
      ":\n",
      "https://\n",
      "github.com/iNeuronai/same\n",
      "-\n",
      "resume\n",
      "-\n",
      "year\n",
      "-\n",
      "wise\n",
      "Interview Questions :\n",
      "https://\n",
      "github.com/iNeuronai/interview\n",
      "-\n",
      "question\n",
      "-\n",
      "data\n",
      "-\n",
      "science\n",
      "-\n",
      "\n",
      "Page no: 9\n",
      "\n",
      "Support channel from \n",
      "iNeuron\n",
      "For any query and quick interview response mail us @\n",
      "query@ineuron.ai\n",
      "live Skype support id :\n",
      "support@ineuron.ai\n",
      "timings : Morning 9 AM IST to night 2 AM IST (17 hour a day) all day \n",
      "Start Date:\n",
      "20th February \n",
      "2021\n",
      "Class Timings:\n",
      "3 PM to 6 PM (IST) Saturday \n",
      "\n",
      "Sunday ( After 6 doubt clearing in live class ) \n",
      "Doubt Clearing Session:\n",
      "10 PM to 12 PM (IST) Wednesday\n",
      "\n"
     ]
    }
   ],
   "source": [
    "# import the module\n",
    "import PyPDF2\n",
    "def pdf():\n",
    "# create an object \n",
    "    file = open('Full Stack Data Science.pdf', 'rb')\n",
    "\n",
    "    # create a pdf reader object\n",
    "    pdfReader = PyPDF2.PdfFileReader(file)\n",
    "\n",
    "    # get the number of pages in pdf file\n",
    "    pages = pdfReader.numPages\n",
    "\n",
    "    for i in range(pages):\n",
    "\n",
    "        #extract the page\n",
    "        page = pdfReader.getPage(i)\n",
    "\n",
    "        #print the page text content along with page number\n",
    "        print(\"Page no:\",i)\n",
    "        print(page.extractText())\n",
    "        \n",
    "pdf()"
   ]
  },
  {
   "cell_type": "code",
   "execution_count": 33,
   "metadata": {},
   "outputs": [],
   "source": [
    " #2 . write a fun which will be able to print an index of all premitive element which you will pass "
   ]
  },
  {
   "cell_type": "code",
   "execution_count": 6,
   "metadata": {},
   "outputs": [
    {
     "name": "stdout",
     "output_type": "stream",
     "text": [
      "index of 34 is 0\n",
      "index of 23 is 1\n",
      "index of 45 is 2\n",
      "index of sudh is 3\n"
     ]
    }
   ],
   "source": [
    "def fun2(l):\n",
    "    if type(l)==list or type(l) == tuple or type(l)== str:\n",
    "        for i in range(len(l)):\n",
    "            print(f\"index of {l[i]} is {i}\")\n",
    "\n",
    "fun2([34,23,45,\"sudh\"])  "
   ]
  },
  {
   "cell_type": "code",
   "execution_count": null,
   "metadata": {},
   "outputs": [],
   "source": [
    "#13 . write a function which will be able to shutdonw your system "
   ]
  },
  {
   "cell_type": "code",
   "execution_count": 9,
   "metadata": {},
   "outputs": [
    {
     "name": "stdout",
     "output_type": "stream",
     "text": [
      "Do you want to shutdown your system (y/n) :n\n"
     ]
    }
   ],
   "source": [
    "# shut down your PC\n",
    "def shutdown():\n",
    "    import os\n",
    "    shut = input(\"Do you want to shutdown your system (y/n) :\")\n",
    "    if shut =='n':\n",
    "        exit()\n",
    "    else:\n",
    "        os.system(\"shutdown/s/t 1\")\n",
    "shutdown()"
   ]
  },
  {
   "cell_type": "code",
   "execution_count": null,
   "metadata": {},
   "outputs": [],
   "source": []
  }
 ],
 "metadata": {
  "kernelspec": {
   "display_name": "Python 3",
   "language": "python",
   "name": "python3"
  },
  "language_info": {
   "codemirror_mode": {
    "name": "ipython",
    "version": 3
   },
   "file_extension": ".py",
   "mimetype": "text/x-python",
   "name": "python",
   "nbconvert_exporter": "python",
   "pygments_lexer": "ipython3",
   "version": "3.7.1"
  }
 },
 "nbformat": 4,
 "nbformat_minor": 2
}
