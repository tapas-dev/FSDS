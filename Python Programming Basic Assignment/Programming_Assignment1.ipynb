{
 "cells": [
  {
   "cell_type": "code",
   "execution_count": null,
   "metadata": {},
   "outputs": [],
   "source": [
    "#1.Write a Python program to print \"Hello Python\"?"
   ]
  },
  {
   "cell_type": "code",
   "execution_count": 1,
   "metadata": {},
   "outputs": [
    {
     "name": "stdout",
     "output_type": "stream",
     "text": [
      "Hello Python\n"
     ]
    }
   ],
   "source": [
    "def hello():\n",
    "    print(\"Hello Python\")\n",
    "hello()"
   ]
  },
  {
   "cell_type": "code",
   "execution_count": null,
   "metadata": {},
   "outputs": [],
   "source": [
    "#2.Write a Python program to do arithmetical operations addition and division.?"
   ]
  },
  {
   "cell_type": "code",
   "execution_count": 15,
   "metadata": {},
   "outputs": [
    {
     "name": "stdout",
     "output_type": "stream",
     "text": [
      "The addition is: 12\n",
      "The Division is: 5.0\n"
     ]
    }
   ],
   "source": [
    "def operation(a,b):\n",
    "    try:\n",
    "        c=a+b\n",
    "        d = a/b\n",
    "        print(\"The addition is:\",c)\n",
    "        print(\"The Division is:\",d)\n",
    "    except Exception as e:\n",
    "        print(\"You did not enter correct input\",e)\n",
    "operation(10,2)"
   ]
  },
  {
   "cell_type": "code",
   "execution_count": null,
   "metadata": {},
   "outputs": [],
   "source": [
    "#3.\tWrite a Python program to find the area of a triangle?"
   ]
  },
  {
   "cell_type": "code",
   "execution_count": 26,
   "metadata": {},
   "outputs": [
    {
     "name": "stdout",
     "output_type": "stream",
     "text": [
      "Enter first side:4\n",
      "Enter second side: 5\n",
      "Enter third side: 6\n",
      "The area of the triangle is  9.921567416492215\n"
     ]
    }
   ],
   "source": [
    "def triangle():\n",
    "    try:\n",
    "        # Three sides of the triangle is a, b and c:  \n",
    "        a = int(input('Enter first side:'))  \n",
    "        b = int(input('Enter second side: '))  \n",
    "        c = int(input('Enter third side: '))  \n",
    "        # calculate the semi-perimeter  \n",
    "        s = (a + b + c) / 2  \n",
    "        # calculate the area  \n",
    "        area = (s*(s-a)*(s-b)*(s-c)) ** 0.5  \n",
    "        print(\"The area of the triangle is \",area)\n",
    "    except Exception as e:\n",
    "        print(\"You have entered a incorrect input\",e)\n",
    "\n",
    "triangle()\n",
    "  "
   ]
  },
  {
   "cell_type": "code",
   "execution_count": null,
   "metadata": {},
   "outputs": [],
   "source": [
    "#4.\tWrite a Python program to swap two variables?"
   ]
  },
  {
   "cell_type": "code",
   "execution_count": 35,
   "metadata": {},
   "outputs": [
    {
     "name": "stdout",
     "output_type": "stream",
     "text": [
      "Enter first variable:ram\n",
      "Enter second variable:shyam\n",
      "The first variable after reverse is: shyam\n",
      "The second variabe after reverse is: ram\n"
     ]
    }
   ],
   "source": [
    "def swap():\n",
    "    try:\n",
    "        a = input(\"Enter first variable:\")\n",
    "        b = input(\"Enter second variable:\")\n",
    "        temp = a\n",
    "        a = b\n",
    "        b = temp\n",
    "        print(\"The first variable after reverse is:\",a)\n",
    "        print(\"The second variabe after reverse is:\",b)\n",
    "    except Exception as e:\n",
    "        print(\"You hae entered incorrect infomation\",tae)\n",
    "swap()"
   ]
  },
  {
   "cell_type": "code",
   "execution_count": null,
   "metadata": {},
   "outputs": [],
   "source": [
    "#5.\tWrite a Python program to generate a random number?"
   ]
  },
  {
   "cell_type": "code",
   "execution_count": 43,
   "metadata": {},
   "outputs": [
    {
     "name": "stdout",
     "output_type": "stream",
     "text": [
      "94\n"
     ]
    }
   ],
   "source": [
    "def generate(a):\n",
    "    import random\n",
    "    print(random.randint(0,a))\n",
    "#pass upper limit to function\n",
    "generate(100)\n",
    "    "
   ]
  }
 ],
 "metadata": {
  "kernelspec": {
   "display_name": "Python 3",
   "language": "python",
   "name": "python3"
  },
  "language_info": {
   "codemirror_mode": {
    "name": "ipython",
    "version": 3
   },
   "file_extension": ".py",
   "mimetype": "text/x-python",
   "name": "python",
   "nbconvert_exporter": "python",
   "pygments_lexer": "ipython3",
   "version": "3.7.1"
  }
 },
 "nbformat": 4,
 "nbformat_minor": 2
}
