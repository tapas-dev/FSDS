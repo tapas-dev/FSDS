{
 "cells": [
  {
   "cell_type": "markdown",
   "metadata": {},
   "source": [
    "# 1.Write a Python Program to Find LCM?"
   ]
  },
  {
   "cell_type": "code",
   "execution_count": 7,
   "metadata": {},
   "outputs": [
    {
     "name": "stdout",
     "output_type": "stream",
     "text": [
      "Enter the first number:4\n",
      "Enter the second number:3\n",
      "The LCM of 4 and 3 is: 12\n"
     ]
    }
   ],
   "source": [
    "def LCM():\n",
    "    num1= int(input(\"Enter the first number:\"))\n",
    "    num2 =int(input(\"Enter the second number:\"))\n",
    "    if num1>num2:\n",
    "        greater = num1\n",
    "    else:\n",
    "        greater =num2\n",
    "    while True:\n",
    "        if (greater%num1==0) and (greater%num2==0):\n",
    "            lcm =greater\n",
    "            break\n",
    "        greater+=1\n",
    "    print(\"The LCM of\",num1,\"and\",num2,\"is:\",lcm)\n",
    "\n",
    "LCM()"
   ]
  },
  {
   "cell_type": "markdown",
   "metadata": {},
   "source": [
    "# 2.Write a Python Program to Find HCF?"
   ]
  },
  {
   "cell_type": "code",
   "execution_count": 11,
   "metadata": {},
   "outputs": [
    {
     "name": "stdout",
     "output_type": "stream",
     "text": [
      "Enter first number:54\n",
      "Enter second number:24\n",
      "The hcf of 54 and 24 is: 6\n"
     ]
    }
   ],
   "source": [
    "def hcf():\n",
    "    num1 = int(input(\"Enter first number:\"))\n",
    "    num2 = int(input(\"Enter second number:\"))\n",
    "    if num1>num2 :\n",
    "        smaller = num2\n",
    "    else:\n",
    "        smaller = num1\n",
    "    for i in range(1,smaller+1):\n",
    "        if(num1%i==0) and (num2%i==0):\n",
    "            hcf =i\n",
    "    print(\"The hcf of\",num1, \"and\", num2, \"is:\",hcf)\n",
    "\n",
    "hcf()"
   ]
  },
  {
   "cell_type": "markdown",
   "metadata": {},
   "source": [
    "\n",
    "# 3.Write a Python Program to Convert Decimal to Binary, Octal and Hexadecimal?"
   ]
  },
  {
   "cell_type": "code",
   "execution_count": 15,
   "metadata": {},
   "outputs": [
    {
     "name": "stdout",
     "output_type": "stream",
     "text": [
      "Enter the number:344\n",
      "The Binary of the number is 0b101011000\n",
      "The Octal of the number is 0o530\n",
      "The Hexadecimal of the number is 0x158\n"
     ]
    }
   ],
   "source": [
    "def decimal_conversion():\n",
    "    decimal=int(input(\"Enter the number:\"))\n",
    "    print(\"The Binary of the number is\",bin(decimal))\n",
    "    print(\"The Octal of the number is\",oct(decimal))\n",
    "    print(\"The Hexadecimal of the number is\",hex(decimal))\n",
    "decimal_conversion()"
   ]
  },
  {
   "cell_type": "markdown",
   "metadata": {},
   "source": [
    "# 4.Write a Python Program To Find ASCII value of a character?"
   ]
  },
  {
   "cell_type": "code",
   "execution_count": 19,
   "metadata": {},
   "outputs": [
    {
     "name": "stdout",
     "output_type": "stream",
     "text": [
      "Please enter the alphabetp\n",
      "The ASCII value of alphabet p is 112\n"
     ]
    }
   ],
   "source": [
    "def ASCII():\n",
    "    num =input(\"Please enter the alphabet\")\n",
    "    print(\"The ASCII value of alphabet\",num ,\"is\",ord(num))\n",
    "ASCII()"
   ]
  },
  {
   "cell_type": "markdown",
   "metadata": {},
   "source": [
    "# 5.Write a Python Program to Make a Simple Calculator with 4 basic mathematical operations?"
   ]
  },
  {
   "cell_type": "code",
   "execution_count": 27,
   "metadata": {},
   "outputs": [
    {
     "name": "stdout",
     "output_type": "stream",
     "text": [
      "Enter first number:4\n",
      "Enter second number:5\n"
     ]
    }
   ],
   "source": [
    "class calculator:\n",
    "    num1 = int(input(\"Enter first number:\"))\n",
    "    num2 = int(input(\"Enter second number:\"))\n",
    "    def __init__(self):\n",
    "        pass\n",
    "    def addition(self):\n",
    "        c= self.num1+self.num2\n",
    "        print(c)\n",
    "    def multiplication(self):\n",
    "        m = self.num1*self.num2\n",
    "        print(m)\n",
    "    def subtraction(self):\n",
    "        s=self.num1-self.num2\n",
    "        print(s)\n",
    "    def division(self):\n",
    "        d=self.num1/self.num2\n",
    "        print(d)\n",
    "k = calculator()"
   ]
  },
  {
   "cell_type": "code",
   "execution_count": 22,
   "metadata": {},
   "outputs": [
    {
     "name": "stdout",
     "output_type": "stream",
     "text": [
      "9\n"
     ]
    }
   ],
   "source": [
    "k.addition()"
   ]
  },
  {
   "cell_type": "code",
   "execution_count": 23,
   "metadata": {},
   "outputs": [
    {
     "name": "stdout",
     "output_type": "stream",
     "text": [
      "-1\n"
     ]
    }
   ],
   "source": [
    "k.subtraction()"
   ]
  },
  {
   "cell_type": "code",
   "execution_count": 25,
   "metadata": {},
   "outputs": [
    {
     "name": "stdout",
     "output_type": "stream",
     "text": [
      "20\n"
     ]
    }
   ],
   "source": [
    "k.multiplication()"
   ]
  },
  {
   "cell_type": "code",
   "execution_count": 26,
   "metadata": {},
   "outputs": [
    {
     "name": "stdout",
     "output_type": "stream",
     "text": [
      "0.8\n"
     ]
    }
   ],
   "source": [
    "k.division()"
   ]
  }
 ],
 "metadata": {
  "kernelspec": {
   "display_name": "Python 3",
   "language": "python",
   "name": "python3"
  }
 },
 "nbformat": 4,
 "nbformat_minor": 2
}
